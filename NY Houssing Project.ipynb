{
  "cells": [
    {
      "cell_type": "markdown",
      "metadata": {
        "id": "vpwpBXfQoPkC"
      },
      "source": [
        "\n",
        "## Kemeel Kebede - kemeeel.kebede@baruchmail.cuny.edu\n",
        "## Anthony Esposito - anthony.esposito5@baruchmail.cuny.edu\n",
        "## Wen Bi - wen.bi@baruchmail.cuny.edu\n",
        "### Project Objective: To analyze NY housing market data and NY salary data.\n",
        "#### Our project aims to find if there is a positive or negative correlation between salary and house prices in New York over a time span of 2012-2019."
      ]
    },
    {
      "cell_type": "markdown",
      "metadata": {
        "id": "UFnOXl_f-lun"
      },
      "source": [
        "## Data Source Links\n",
        "### https://www.deptofnumbers.com/income/new-york/\n",
        "### https://www.zillow.com/research/data/\n",
        "\n",
        "### link for the CSV file (originally from Zillow.com)\n",
        "#### https://drive.google.com/file/d/13X5PMy_W_hOgMOVLC8W0x5Eg8l34IsfX/view?usp=sharing"
      ]
    },
    {
      "cell_type": "code",
      "execution_count": null,
      "metadata": {
        "id": "qhSYiyPSfdgQ"
      },
      "outputs": [],
      "source": [
        "#importing libraries needed to complete the project\n",
        "import requests\n",
        "from bs4 import BeautifulSoup as bs\n",
        "import pandas as pd\n",
        "from lxml import html\n",
        "import re\n",
        "import matplotlib.pyplot as plt"
      ]
    },
    {
      "cell_type": "markdown",
      "metadata": {
        "id": "O2wuY73Mqr8R"
      },
      "source": [
        "#Part 1: Web Scraping"
      ]
    },
    {
      "cell_type": "code",
      "execution_count": null,
      "metadata": {
        "colab": {
          "base_uri": "https://localhost:8080/"
        },
        "id": "VFb7eQpFqxUp",
        "outputId": "c42eaa75-2539-4a2d-c745-ad04a0ed5fbd"
      },
      "outputs": [
        {
          "name": "stdout",
          "output_type": "stream",
          "text": [
            "<Response [200]>\n"
          ]
        }
      ],
      "source": [
        "#setting up the url and testing the page\n",
        "url = 'https://www.deptofnumbers.com/income/new-york/'\n",
        "\n",
        "#testing if the page is responsive (200 means yes)\n",
        "test = requests.get(url)\n",
        "print(test)"
      ]
    },
    {
      "cell_type": "code",
      "execution_count": null,
      "metadata": {
        "colab": {
          "base_uri": "https://localhost:8080/"
        },
        "id": "NMym9gJiz9fL",
        "outputId": "6e9cf5ad-d6c7-40db-bc65-5affe81056b7"
      },
      "outputs": [
        {
          "name": "stdout",
          "output_type": "stream",
          "text": [
            "Number of tables on site:  6\n"
          ]
        }
      ],
      "source": [
        "#getting the number of tables on the page (since there are multiple)\n",
        "page = requests.get(url).text\n",
        "\n",
        "soup = bs(page, \"lxml\")\n",
        "tab = soup.find_all(\"table\", attrs={\"class\": \"stdtable\"})\n",
        "print(\"Number of tables on site: \",len(tab))"
      ]
    },
    {
      "cell_type": "code",
      "execution_count": null,
      "metadata": {
        "colab": {
          "base_uri": "https://localhost:8080/"
        },
        "id": "_5ZeBNoV1Qzd",
        "outputId": "c2afa503-1d3b-4c30-b06f-e0bceed61b6b"
      },
      "outputs": [
        {
          "name": "stdout",
          "output_type": "stream",
          "text": [
            "['Date', 'US', 'New York']\n"
          ]
        }
      ],
      "source": [
        "#getting all the table headings in one place\n",
        "table1 = tab[0]\n",
        "\n",
        "body = table1.find_all(\"tr\")\n",
        "\n",
        "head = body[0]\n",
        "body_rows = body[1:]\n",
        "\n",
        "#getting and storing the table head that we need\n",
        "heads = []\n",
        "for item in head.find_all(\"th\"):\n",
        "    item = (item.text).rstrip(\"\\n\")\n",
        "    heads.append(item)\n",
        "print(heads)"
      ]
    },
    {
      "cell_type": "code",
      "execution_count": null,
      "metadata": {
        "colab": {
          "base_uri": "https://localhost:8080/"
        },
        "id": "SpNZPeNk1ww3",
        "outputId": "307ef52e-f09a-4d83-8fe9-4630bb25515c"
      },
      "outputs": [
        {
          "name": "stdout",
          "output_type": "stream",
          "text": [
            "[['2019', '$65712', '$72108'], ['2018', '$63059', '$69074'], ['2017', '$62927', '$67680'], ['2016', '$61383', '$67021'], ['2015', '$60187', '$65664'], ['2014', '$58001', '$63645'], ['2013', '$57437', '$63064'], ['2012', '$57307', '$62971'], ['2011', '$57531', '$62936'], ['2010', '$58809', '$63629'], ['2009', '$59988', '$65289'], ['2008', '$61932', '$66698'], ['2007', '$62717', '$66145'], ['2006', '$61586', '$65314'], ['2005', '$60684', '$64933']]\n"
          ]
        }
      ],
      "source": [
        "#getting all the table rows(data) in one place\n",
        "table_rows = []\n",
        "for row_num in range(len(body_rows)):\n",
        "    row = []\n",
        "    for row_item in body_rows[row_num].find_all(\"td\"):\n",
        "        aa = re.sub(\"(\\xa0)|(\\n)|,\",\"\",row_item.text)\n",
        "        row.append(aa)\n",
        "    table_rows.append(row)\n",
        "\n",
        "print(table_rows)"
      ]
    },
    {
      "cell_type": "markdown",
      "metadata": {
        "id": "hVP-ikbEqYRh"
      },
      "source": [
        "# PART 2: Numpy + pandas ADD PumPy & Panda functionality"
      ]
    },
    {
      "cell_type": "code",
      "execution_count": null,
      "metadata": {
        "colab": {
          "base_uri": "https://localhost:8080/",
          "height": 206
        },
        "id": "IqdXip4YuNr5",
        "outputId": "731549ef-83dc-4e83-cb24-2fee80563ddb"
      },
      "outputs": [
        {
          "data": {
            "text/html": [
              "\n",
              "  <div id=\"df-161773e4-f8a8-4e34-a85e-372d75c79d88\">\n",
              "    <div class=\"colab-df-container\">\n",
              "      <div>\n",
              "<style scoped>\n",
              "    .dataframe tbody tr th:only-of-type {\n",
              "        vertical-align: middle;\n",
              "    }\n",
              "\n",
              "    .dataframe tbody tr th {\n",
              "        vertical-align: top;\n",
              "    }\n",
              "\n",
              "    .dataframe thead th {\n",
              "        text-align: right;\n",
              "    }\n",
              "</style>\n",
              "<table border=\"1\" class=\"dataframe\">\n",
              "  <thead>\n",
              "    <tr style=\"text-align: right;\">\n",
              "      <th></th>\n",
              "      <th>0</th>\n",
              "      <th>1</th>\n",
              "      <th>2</th>\n",
              "    </tr>\n",
              "  </thead>\n",
              "  <tbody>\n",
              "    <tr>\n",
              "      <th>0</th>\n",
              "      <td>2019</td>\n",
              "      <td>$65712</td>\n",
              "      <td>$72108</td>\n",
              "    </tr>\n",
              "    <tr>\n",
              "      <th>1</th>\n",
              "      <td>2018</td>\n",
              "      <td>$63059</td>\n",
              "      <td>$69074</td>\n",
              "    </tr>\n",
              "    <tr>\n",
              "      <th>2</th>\n",
              "      <td>2017</td>\n",
              "      <td>$62927</td>\n",
              "      <td>$67680</td>\n",
              "    </tr>\n",
              "    <tr>\n",
              "      <th>3</th>\n",
              "      <td>2016</td>\n",
              "      <td>$61383</td>\n",
              "      <td>$67021</td>\n",
              "    </tr>\n",
              "    <tr>\n",
              "      <th>4</th>\n",
              "      <td>2015</td>\n",
              "      <td>$60187</td>\n",
              "      <td>$65664</td>\n",
              "    </tr>\n",
              "  </tbody>\n",
              "</table>\n",
              "</div>\n",
              "      <button class=\"colab-df-convert\" onclick=\"convertToInteractive('df-161773e4-f8a8-4e34-a85e-372d75c79d88')\"\n",
              "              title=\"Convert this dataframe to an interactive table.\"\n",
              "              style=\"display:none;\">\n",
              "        \n",
              "  <svg xmlns=\"http://www.w3.org/2000/svg\" height=\"24px\"viewBox=\"0 0 24 24\"\n",
              "       width=\"24px\">\n",
              "    <path d=\"M0 0h24v24H0V0z\" fill=\"none\"/>\n",
              "    <path d=\"M18.56 5.44l.94 2.06.94-2.06 2.06-.94-2.06-.94-.94-2.06-.94 2.06-2.06.94zm-11 1L8.5 8.5l.94-2.06 2.06-.94-2.06-.94L8.5 2.5l-.94 2.06-2.06.94zm10 10l.94 2.06.94-2.06 2.06-.94-2.06-.94-.94-2.06-.94 2.06-2.06.94z\"/><path d=\"M17.41 7.96l-1.37-1.37c-.4-.4-.92-.59-1.43-.59-.52 0-1.04.2-1.43.59L10.3 9.45l-7.72 7.72c-.78.78-.78 2.05 0 2.83L4 21.41c.39.39.9.59 1.41.59.51 0 1.02-.2 1.41-.59l7.78-7.78 2.81-2.81c.8-.78.8-2.07 0-2.86zM5.41 20L4 18.59l7.72-7.72 1.47 1.35L5.41 20z\"/>\n",
              "  </svg>\n",
              "      </button>\n",
              "      \n",
              "  <style>\n",
              "    .colab-df-container {\n",
              "      display:flex;\n",
              "      flex-wrap:wrap;\n",
              "      gap: 12px;\n",
              "    }\n",
              "\n",
              "    .colab-df-convert {\n",
              "      background-color: #E8F0FE;\n",
              "      border: none;\n",
              "      border-radius: 50%;\n",
              "      cursor: pointer;\n",
              "      display: none;\n",
              "      fill: #1967D2;\n",
              "      height: 32px;\n",
              "      padding: 0 0 0 0;\n",
              "      width: 32px;\n",
              "    }\n",
              "\n",
              "    .colab-df-convert:hover {\n",
              "      background-color: #E2EBFA;\n",
              "      box-shadow: 0px 1px 2px rgba(60, 64, 67, 0.3), 0px 1px 3px 1px rgba(60, 64, 67, 0.15);\n",
              "      fill: #174EA6;\n",
              "    }\n",
              "\n",
              "    [theme=dark] .colab-df-convert {\n",
              "      background-color: #3B4455;\n",
              "      fill: #D2E3FC;\n",
              "    }\n",
              "\n",
              "    [theme=dark] .colab-df-convert:hover {\n",
              "      background-color: #434B5C;\n",
              "      box-shadow: 0px 1px 3px 1px rgba(0, 0, 0, 0.15);\n",
              "      filter: drop-shadow(0px 1px 2px rgba(0, 0, 0, 0.3));\n",
              "      fill: #FFFFFF;\n",
              "    }\n",
              "  </style>\n",
              "\n",
              "      <script>\n",
              "        const buttonEl =\n",
              "          document.querySelector('#df-161773e4-f8a8-4e34-a85e-372d75c79d88 button.colab-df-convert');\n",
              "        buttonEl.style.display =\n",
              "          google.colab.kernel.accessAllowed ? 'block' : 'none';\n",
              "\n",
              "        async function convertToInteractive(key) {\n",
              "          const element = document.querySelector('#df-161773e4-f8a8-4e34-a85e-372d75c79d88');\n",
              "          const dataTable =\n",
              "            await google.colab.kernel.invokeFunction('convertToInteractive',\n",
              "                                                     [key], {});\n",
              "          if (!dataTable) return;\n",
              "\n",
              "          const docLinkHtml = 'Like what you see? Visit the ' +\n",
              "            '<a target=\"_blank\" href=https://colab.research.google.com/notebooks/data_table.ipynb>data table notebook</a>'\n",
              "            + ' to learn more about interactive tables.';\n",
              "          element.innerHTML = '';\n",
              "          dataTable['output_type'] = 'display_data';\n",
              "          await google.colab.output.renderOutput(dataTable, element);\n",
              "          const docLink = document.createElement('div');\n",
              "          docLink.innerHTML = docLinkHtml;\n",
              "          element.appendChild(docLink);\n",
              "        }\n",
              "      </script>\n",
              "    </div>\n",
              "  </div>\n",
              "  "
            ],
            "text/plain": [
              "      0       1       2\n",
              "0  2019  $65712  $72108\n",
              "1  2018  $63059  $69074\n",
              "2  2017  $62927  $67680\n",
              "3  2016  $61383  $67021\n",
              "4  2015  $60187  $65664"
            ]
          },
          "execution_count": 37,
          "metadata": {},
          "output_type": "execute_result"
        }
      ],
      "source": [
        "#making pandas functionality for the income data\n",
        "income_table = pd.DataFrame(data=table_rows)\n",
        "\n",
        "#double checking the data\n",
        "income_table.head()"
      ]
    },
    {
      "cell_type": "code",
      "execution_count": null,
      "metadata": {
        "colab": {
          "base_uri": "https://localhost:8080/"
        },
        "id": "jAfinUSi2qkN",
        "outputId": "5ffb92ec-83bc-4c14-f747-261240c5f25a"
      },
      "outputs": [
        {
          "data": {
            "text/plain": [
              "(15, 3)"
            ]
          },
          "execution_count": 38,
          "metadata": {},
          "output_type": "execute_result"
        }
      ],
      "source": [
        "#checking that all the data was imported correctly\n",
        "income_table.shape"
      ]
    },
    {
      "cell_type": "code",
      "execution_count": null,
      "metadata": {
        "colab": {
          "base_uri": "https://localhost:8080/",
          "height": 73,
          "resources": {
            "http://localhost:8080/nbextensions/google.colab/files.js": {
              "data": "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",
              "headers": [
                [
                  "content-type",
                  "application/javascript"
                ]
              ],
              "ok": true,
              "status": 200,
              "status_text": ""
            }
          }
        },
        "id": "T_aDVi5n94wE",
        "outputId": "28cf5c6a-137d-4dcb-f43b-9577265b5278"
      },
      "outputs": [
        {
          "data": {
            "text/html": [
              "\n",
              "     <input type=\"file\" id=\"files-28c76aa7-d627-4aa5-9ab2-7038984dac4e\" name=\"files[]\" multiple disabled\n",
              "        style=\"border:none\" />\n",
              "     <output id=\"result-28c76aa7-d627-4aa5-9ab2-7038984dac4e\">\n",
              "      Upload widget is only available when the cell has been executed in the\n",
              "      current browser session. Please rerun this cell to enable.\n",
              "      </output>\n",
              "      <script src=\"/nbextensions/google.colab/files.js\"></script> "
            ],
            "text/plain": [
              "<IPython.core.display.HTML object>"
            ]
          },
          "metadata": {},
          "output_type": "display_data"
        },
        {
          "name": "stdout",
          "output_type": "stream",
          "text": [
            "Saving pr.csv to pr (1).csv\n"
          ]
        }
      ],
      "source": [
        "#this code is to load the CSV file into Colab\n",
        "#(different code needed for Jupyter Notebook)\n",
        "from google.colab import files\n",
        "uploaded = files.upload()"
      ]
    },
    {
      "cell_type": "code",
      "execution_count": null,
      "metadata": {
        "id": "_xIAZVqEfgp6"
      },
      "outputs": [],
      "source": [
        "#creating a pandas table with our CSV file from Zillow of prices across the \n",
        "#nation (we will bring it down to just NY in part 3 to fit the scope of \n",
        "#the project) us_prices variable represents the US housing market prices\n",
        "us_prices = pd.read_csv('pr.csv')"
      ]
    },
    {
      "cell_type": "code",
      "execution_count": null,
      "metadata": {
        "colab": {
          "base_uri": "https://localhost:8080/",
          "height": 502
        },
        "id": "HKlK1J7gq6tt",
        "outputId": "2cd284bc-b8de-4f6e-cb89-43573ca11be0"
      },
      "outputs": [
        {
          "data": {
            "text/html": [
              "\n",
              "  <div id=\"df-0eebd5f4-e658-4d63-b5f5-a4f1f94be357\">\n",
              "    <div class=\"colab-df-container\">\n",
              "      <div>\n",
              "<style scoped>\n",
              "    .dataframe tbody tr th:only-of-type {\n",
              "        vertical-align: middle;\n",
              "    }\n",
              "\n",
              "    .dataframe tbody tr th {\n",
              "        vertical-align: top;\n",
              "    }\n",
              "\n",
              "    .dataframe thead th {\n",
              "        text-align: right;\n",
              "    }\n",
              "</style>\n",
              "<table border=\"1\" class=\"dataframe\">\n",
              "  <thead>\n",
              "    <tr style=\"text-align: right;\">\n",
              "      <th></th>\n",
              "      <th>RegionID</th>\n",
              "      <th>SizeRank</th>\n",
              "      <th>RegionName</th>\n",
              "      <th>RegionType</th>\n",
              "      <th>StateName</th>\n",
              "      <th>2012-04-30</th>\n",
              "      <th>2012-05-31</th>\n",
              "      <th>2012-06-30</th>\n",
              "      <th>2012-07-31</th>\n",
              "      <th>2012-08-31</th>\n",
              "      <th>...</th>\n",
              "      <th>2021-03-31</th>\n",
              "      <th>2021-04-30</th>\n",
              "      <th>2021-05-31</th>\n",
              "      <th>2021-06-30</th>\n",
              "      <th>2021-07-31</th>\n",
              "      <th>2021-08-31</th>\n",
              "      <th>2021-09-30</th>\n",
              "      <th>2021-10-31</th>\n",
              "      <th>2021-11-30</th>\n",
              "      <th>2021-12-31</th>\n",
              "    </tr>\n",
              "  </thead>\n",
              "  <tbody>\n",
              "    <tr>\n",
              "      <th>0</th>\n",
              "      <td>102001</td>\n",
              "      <td>0</td>\n",
              "      <td>United States</td>\n",
              "      <td>Country</td>\n",
              "      <td>NaN</td>\n",
              "      <td>167903.0</td>\n",
              "      <td>171334.0</td>\n",
              "      <td>174663.0</td>\n",
              "      <td>175846.0</td>\n",
              "      <td>176117.0</td>\n",
              "      <td>...</td>\n",
              "      <td>300438.0</td>\n",
              "      <td>307432.0</td>\n",
              "      <td>313190.0</td>\n",
              "      <td>317623.0</td>\n",
              "      <td>320147.0</td>\n",
              "      <td>322015.0</td>\n",
              "      <td>324521.0</td>\n",
              "      <td>327814.0</td>\n",
              "      <td>332102.0</td>\n",
              "      <td>334323.0</td>\n",
              "    </tr>\n",
              "    <tr>\n",
              "      <th>1</th>\n",
              "      <td>394913</td>\n",
              "      <td>1</td>\n",
              "      <td>New York, NY</td>\n",
              "      <td>Msa</td>\n",
              "      <td>NY</td>\n",
              "      <td>352858.0</td>\n",
              "      <td>356995.0</td>\n",
              "      <td>361310.0</td>\n",
              "      <td>362366.0</td>\n",
              "      <td>361748.0</td>\n",
              "      <td>...</td>\n",
              "      <td>481624.0</td>\n",
              "      <td>489883.0</td>\n",
              "      <td>497344.0</td>\n",
              "      <td>505139.0</td>\n",
              "      <td>509247.0</td>\n",
              "      <td>514403.0</td>\n",
              "      <td>518050.0</td>\n",
              "      <td>521544.0</td>\n",
              "      <td>521384.0</td>\n",
              "      <td>524472.0</td>\n",
              "    </tr>\n",
              "    <tr>\n",
              "      <th>2</th>\n",
              "      <td>753899</td>\n",
              "      <td>2</td>\n",
              "      <td>Los Angeles-Long Beach-Anaheim, CA</td>\n",
              "      <td>Msa</td>\n",
              "      <td>CA</td>\n",
              "      <td>371538.0</td>\n",
              "      <td>375081.0</td>\n",
              "      <td>377665.0</td>\n",
              "      <td>377458.0</td>\n",
              "      <td>383023.0</td>\n",
              "      <td>...</td>\n",
              "      <td>760143.0</td>\n",
              "      <td>776038.0</td>\n",
              "      <td>794142.0</td>\n",
              "      <td>807101.0</td>\n",
              "      <td>814819.0</td>\n",
              "      <td>817378.0</td>\n",
              "      <td>821448.0</td>\n",
              "      <td>826084.0</td>\n",
              "      <td>830980.0</td>\n",
              "      <td>841980.0</td>\n",
              "    </tr>\n",
              "    <tr>\n",
              "      <th>3</th>\n",
              "      <td>394463</td>\n",
              "      <td>3</td>\n",
              "      <td>Chicago, IL</td>\n",
              "      <td>Msa</td>\n",
              "      <td>IL</td>\n",
              "      <td>170417.0</td>\n",
              "      <td>176642.0</td>\n",
              "      <td>182257.0</td>\n",
              "      <td>184817.0</td>\n",
              "      <td>184884.0</td>\n",
              "      <td>...</td>\n",
              "      <td>271413.0</td>\n",
              "      <td>272906.0</td>\n",
              "      <td>276302.0</td>\n",
              "      <td>277441.0</td>\n",
              "      <td>278258.0</td>\n",
              "      <td>277207.0</td>\n",
              "      <td>279854.0</td>\n",
              "      <td>284606.0</td>\n",
              "      <td>289132.0</td>\n",
              "      <td>290851.0</td>\n",
              "    </tr>\n",
              "    <tr>\n",
              "      <th>4</th>\n",
              "      <td>394514</td>\n",
              "      <td>4</td>\n",
              "      <td>Dallas-Fort Worth, TX</td>\n",
              "      <td>Msa</td>\n",
              "      <td>TX</td>\n",
              "      <td>157352.0</td>\n",
              "      <td>159531.0</td>\n",
              "      <td>160625.0</td>\n",
              "      <td>160675.0</td>\n",
              "      <td>159957.0</td>\n",
              "      <td>...</td>\n",
              "      <td>311111.0</td>\n",
              "      <td>319231.0</td>\n",
              "      <td>329023.0</td>\n",
              "      <td>338881.0</td>\n",
              "      <td>346938.0</td>\n",
              "      <td>349903.0</td>\n",
              "      <td>351258.0</td>\n",
              "      <td>353320.0</td>\n",
              "      <td>355148.0</td>\n",
              "      <td>359372.0</td>\n",
              "    </tr>\n",
              "    <tr>\n",
              "      <th>...</th>\n",
              "      <td>...</td>\n",
              "      <td>...</td>\n",
              "      <td>...</td>\n",
              "      <td>...</td>\n",
              "      <td>...</td>\n",
              "      <td>...</td>\n",
              "      <td>...</td>\n",
              "      <td>...</td>\n",
              "      <td>...</td>\n",
              "      <td>...</td>\n",
              "      <td>...</td>\n",
              "      <td>...</td>\n",
              "      <td>...</td>\n",
              "      <td>...</td>\n",
              "      <td>...</td>\n",
              "      <td>...</td>\n",
              "      <td>...</td>\n",
              "      <td>...</td>\n",
              "      <td>...</td>\n",
              "      <td>...</td>\n",
              "      <td>...</td>\n",
              "    </tr>\n",
              "    <tr>\n",
              "      <th>90</th>\n",
              "      <td>394528</td>\n",
              "      <td>90</td>\n",
              "      <td>Daytona Beach, FL</td>\n",
              "      <td>Msa</td>\n",
              "      <td>FL</td>\n",
              "      <td>114970.0</td>\n",
              "      <td>119783.0</td>\n",
              "      <td>118880.0</td>\n",
              "      <td>116507.0</td>\n",
              "      <td>116240.0</td>\n",
              "      <td>...</td>\n",
              "      <td>260944.0</td>\n",
              "      <td>267348.0</td>\n",
              "      <td>269499.0</td>\n",
              "      <td>272225.0</td>\n",
              "      <td>275021.0</td>\n",
              "      <td>281189.0</td>\n",
              "      <td>285338.0</td>\n",
              "      <td>287957.0</td>\n",
              "      <td>290574.0</td>\n",
              "      <td>298131.0</td>\n",
              "    </tr>\n",
              "    <tr>\n",
              "      <th>91</th>\n",
              "      <td>394531</td>\n",
              "      <td>91</td>\n",
              "      <td>Des Moines, IA</td>\n",
              "      <td>Msa</td>\n",
              "      <td>IA</td>\n",
              "      <td>145928.0</td>\n",
              "      <td>151971.0</td>\n",
              "      <td>154134.0</td>\n",
              "      <td>152974.0</td>\n",
              "      <td>153711.0</td>\n",
              "      <td>...</td>\n",
              "      <td>242693.0</td>\n",
              "      <td>244039.0</td>\n",
              "      <td>245921.0</td>\n",
              "      <td>247059.0</td>\n",
              "      <td>248461.0</td>\n",
              "      <td>252746.0</td>\n",
              "      <td>258909.0</td>\n",
              "      <td>263965.0</td>\n",
              "      <td>266361.0</td>\n",
              "      <td>267675.0</td>\n",
              "    </tr>\n",
              "    <tr>\n",
              "      <th>92</th>\n",
              "      <td>395006</td>\n",
              "      <td>100</td>\n",
              "      <td>Provo, UT</td>\n",
              "      <td>Msa</td>\n",
              "      <td>UT</td>\n",
              "      <td>175506.0</td>\n",
              "      <td>176395.0</td>\n",
              "      <td>178817.0</td>\n",
              "      <td>179978.0</td>\n",
              "      <td>183436.0</td>\n",
              "      <td>...</td>\n",
              "      <td>402024.0</td>\n",
              "      <td>417704.0</td>\n",
              "      <td>433510.0</td>\n",
              "      <td>445128.0</td>\n",
              "      <td>450701.0</td>\n",
              "      <td>456660.0</td>\n",
              "      <td>466131.0</td>\n",
              "      <td>472249.0</td>\n",
              "      <td>479530.0</td>\n",
              "      <td>485626.0</td>\n",
              "    </tr>\n",
              "    <tr>\n",
              "      <th>93</th>\n",
              "      <td>394549</td>\n",
              "      <td>104</td>\n",
              "      <td>Durham, NC</td>\n",
              "      <td>Msa</td>\n",
              "      <td>NC</td>\n",
              "      <td>185614.0</td>\n",
              "      <td>189453.0</td>\n",
              "      <td>194922.0</td>\n",
              "      <td>191976.0</td>\n",
              "      <td>191962.0</td>\n",
              "      <td>...</td>\n",
              "      <td>314042.0</td>\n",
              "      <td>325233.0</td>\n",
              "      <td>340772.0</td>\n",
              "      <td>351381.0</td>\n",
              "      <td>363362.0</td>\n",
              "      <td>367872.0</td>\n",
              "      <td>373779.0</td>\n",
              "      <td>380619.0</td>\n",
              "      <td>386999.0</td>\n",
              "      <td>391610.0</td>\n",
              "    </tr>\n",
              "    <tr>\n",
              "      <th>94</th>\n",
              "      <td>394602</td>\n",
              "      <td>159</td>\n",
              "      <td>Fort Collins, CO</td>\n",
              "      <td>Msa</td>\n",
              "      <td>CO</td>\n",
              "      <td>224440.0</td>\n",
              "      <td>230669.0</td>\n",
              "      <td>233871.0</td>\n",
              "      <td>233224.0</td>\n",
              "      <td>233021.0</td>\n",
              "      <td>...</td>\n",
              "      <td>433535.0</td>\n",
              "      <td>436461.0</td>\n",
              "      <td>446321.0</td>\n",
              "      <td>451331.0</td>\n",
              "      <td>466388.0</td>\n",
              "      <td>472647.0</td>\n",
              "      <td>479412.0</td>\n",
              "      <td>481824.0</td>\n",
              "      <td>485714.0</td>\n",
              "      <td>493022.0</td>\n",
              "    </tr>\n",
              "  </tbody>\n",
              "</table>\n",
              "<p>95 rows × 122 columns</p>\n",
              "</div>\n",
              "      <button class=\"colab-df-convert\" onclick=\"convertToInteractive('df-0eebd5f4-e658-4d63-b5f5-a4f1f94be357')\"\n",
              "              title=\"Convert this dataframe to an interactive table.\"\n",
              "              style=\"display:none;\">\n",
              "        \n",
              "  <svg xmlns=\"http://www.w3.org/2000/svg\" height=\"24px\"viewBox=\"0 0 24 24\"\n",
              "       width=\"24px\">\n",
              "    <path d=\"M0 0h24v24H0V0z\" fill=\"none\"/>\n",
              "    <path d=\"M18.56 5.44l.94 2.06.94-2.06 2.06-.94-2.06-.94-.94-2.06-.94 2.06-2.06.94zm-11 1L8.5 8.5l.94-2.06 2.06-.94-2.06-.94L8.5 2.5l-.94 2.06-2.06.94zm10 10l.94 2.06.94-2.06 2.06-.94-2.06-.94-.94-2.06-.94 2.06-2.06.94z\"/><path d=\"M17.41 7.96l-1.37-1.37c-.4-.4-.92-.59-1.43-.59-.52 0-1.04.2-1.43.59L10.3 9.45l-7.72 7.72c-.78.78-.78 2.05 0 2.83L4 21.41c.39.39.9.59 1.41.59.51 0 1.02-.2 1.41-.59l7.78-7.78 2.81-2.81c.8-.78.8-2.07 0-2.86zM5.41 20L4 18.59l7.72-7.72 1.47 1.35L5.41 20z\"/>\n",
              "  </svg>\n",
              "      </button>\n",
              "      \n",
              "  <style>\n",
              "    .colab-df-container {\n",
              "      display:flex;\n",
              "      flex-wrap:wrap;\n",
              "      gap: 12px;\n",
              "    }\n",
              "\n",
              "    .colab-df-convert {\n",
              "      background-color: #E8F0FE;\n",
              "      border: none;\n",
              "      border-radius: 50%;\n",
              "      cursor: pointer;\n",
              "      display: none;\n",
              "      fill: #1967D2;\n",
              "      height: 32px;\n",
              "      padding: 0 0 0 0;\n",
              "      width: 32px;\n",
              "    }\n",
              "\n",
              "    .colab-df-convert:hover {\n",
              "      background-color: #E2EBFA;\n",
              "      box-shadow: 0px 1px 2px rgba(60, 64, 67, 0.3), 0px 1px 3px 1px rgba(60, 64, 67, 0.15);\n",
              "      fill: #174EA6;\n",
              "    }\n",
              "\n",
              "    [theme=dark] .colab-df-convert {\n",
              "      background-color: #3B4455;\n",
              "      fill: #D2E3FC;\n",
              "    }\n",
              "\n",
              "    [theme=dark] .colab-df-convert:hover {\n",
              "      background-color: #434B5C;\n",
              "      box-shadow: 0px 1px 3px 1px rgba(0, 0, 0, 0.15);\n",
              "      filter: drop-shadow(0px 1px 2px rgba(0, 0, 0, 0.3));\n",
              "      fill: #FFFFFF;\n",
              "    }\n",
              "  </style>\n",
              "\n",
              "      <script>\n",
              "        const buttonEl =\n",
              "          document.querySelector('#df-0eebd5f4-e658-4d63-b5f5-a4f1f94be357 button.colab-df-convert');\n",
              "        buttonEl.style.display =\n",
              "          google.colab.kernel.accessAllowed ? 'block' : 'none';\n",
              "\n",
              "        async function convertToInteractive(key) {\n",
              "          const element = document.querySelector('#df-0eebd5f4-e658-4d63-b5f5-a4f1f94be357');\n",
              "          const dataTable =\n",
              "            await google.colab.kernel.invokeFunction('convertToInteractive',\n",
              "                                                     [key], {});\n",
              "          if (!dataTable) return;\n",
              "\n",
              "          const docLinkHtml = 'Like what you see? Visit the ' +\n",
              "            '<a target=\"_blank\" href=https://colab.research.google.com/notebooks/data_table.ipynb>data table notebook</a>'\n",
              "            + ' to learn more about interactive tables.';\n",
              "          element.innerHTML = '';\n",
              "          dataTable['output_type'] = 'display_data';\n",
              "          await google.colab.output.renderOutput(dataTable, element);\n",
              "          const docLink = document.createElement('div');\n",
              "          docLink.innerHTML = docLinkHtml;\n",
              "          element.appendChild(docLink);\n",
              "        }\n",
              "      </script>\n",
              "    </div>\n",
              "  </div>\n",
              "  "
            ],
            "text/plain": [
              "    RegionID  SizeRank                          RegionName RegionType  \\\n",
              "0     102001         0                       United States    Country   \n",
              "1     394913         1                        New York, NY        Msa   \n",
              "2     753899         2  Los Angeles-Long Beach-Anaheim, CA        Msa   \n",
              "3     394463         3                         Chicago, IL        Msa   \n",
              "4     394514         4               Dallas-Fort Worth, TX        Msa   \n",
              "..       ...       ...                                 ...        ...   \n",
              "90    394528        90                   Daytona Beach, FL        Msa   \n",
              "91    394531        91                      Des Moines, IA        Msa   \n",
              "92    395006       100                           Provo, UT        Msa   \n",
              "93    394549       104                          Durham, NC        Msa   \n",
              "94    394602       159                    Fort Collins, CO        Msa   \n",
              "\n",
              "   StateName  2012-04-30  2012-05-31  2012-06-30  2012-07-31  2012-08-31  ...  \\\n",
              "0        NaN    167903.0    171334.0    174663.0    175846.0    176117.0  ...   \n",
              "1         NY    352858.0    356995.0    361310.0    362366.0    361748.0  ...   \n",
              "2         CA    371538.0    375081.0    377665.0    377458.0    383023.0  ...   \n",
              "3         IL    170417.0    176642.0    182257.0    184817.0    184884.0  ...   \n",
              "4         TX    157352.0    159531.0    160625.0    160675.0    159957.0  ...   \n",
              "..       ...         ...         ...         ...         ...         ...  ...   \n",
              "90        FL    114970.0    119783.0    118880.0    116507.0    116240.0  ...   \n",
              "91        IA    145928.0    151971.0    154134.0    152974.0    153711.0  ...   \n",
              "92        UT    175506.0    176395.0    178817.0    179978.0    183436.0  ...   \n",
              "93        NC    185614.0    189453.0    194922.0    191976.0    191962.0  ...   \n",
              "94        CO    224440.0    230669.0    233871.0    233224.0    233021.0  ...   \n",
              "\n",
              "    2021-03-31  2021-04-30  2021-05-31  2021-06-30  2021-07-31  2021-08-31  \\\n",
              "0     300438.0    307432.0    313190.0    317623.0    320147.0    322015.0   \n",
              "1     481624.0    489883.0    497344.0    505139.0    509247.0    514403.0   \n",
              "2     760143.0    776038.0    794142.0    807101.0    814819.0    817378.0   \n",
              "3     271413.0    272906.0    276302.0    277441.0    278258.0    277207.0   \n",
              "4     311111.0    319231.0    329023.0    338881.0    346938.0    349903.0   \n",
              "..         ...         ...         ...         ...         ...         ...   \n",
              "90    260944.0    267348.0    269499.0    272225.0    275021.0    281189.0   \n",
              "91    242693.0    244039.0    245921.0    247059.0    248461.0    252746.0   \n",
              "92    402024.0    417704.0    433510.0    445128.0    450701.0    456660.0   \n",
              "93    314042.0    325233.0    340772.0    351381.0    363362.0    367872.0   \n",
              "94    433535.0    436461.0    446321.0    451331.0    466388.0    472647.0   \n",
              "\n",
              "    2021-09-30  2021-10-31  2021-11-30  2021-12-31  \n",
              "0     324521.0    327814.0    332102.0    334323.0  \n",
              "1     518050.0    521544.0    521384.0    524472.0  \n",
              "2     821448.0    826084.0    830980.0    841980.0  \n",
              "3     279854.0    284606.0    289132.0    290851.0  \n",
              "4     351258.0    353320.0    355148.0    359372.0  \n",
              "..         ...         ...         ...         ...  \n",
              "90    285338.0    287957.0    290574.0    298131.0  \n",
              "91    258909.0    263965.0    266361.0    267675.0  \n",
              "92    466131.0    472249.0    479530.0    485626.0  \n",
              "93    373779.0    380619.0    386999.0    391610.0  \n",
              "94    479412.0    481824.0    485714.0    493022.0  \n",
              "\n",
              "[95 rows x 122 columns]"
            ]
          },
          "execution_count": 41,
          "metadata": {},
          "output_type": "execute_result"
        }
      ],
      "source": [
        "#checking that all the data transferred from the csv file from Zillow\n",
        "us_prices"
      ]
    },
    {
      "cell_type": "markdown",
      "metadata": {
        "id": "YeAJzXnr94mI"
      },
      "source": [
        "# PART 3: Data Combine, Merge, Load highlight"
      ]
    },
    {
      "cell_type": "code",
      "execution_count": null,
      "metadata": {
        "colab": {
          "base_uri": "https://localhost:8080/",
          "height": 112
        },
        "id": "HTi0dQvQsJxa",
        "outputId": "958504e1-7ce1-4f34-f964-7e65f3f33b16"
      },
      "outputs": [
        {
          "data": {
            "text/html": [
              "\n",
              "  <div id=\"df-ce3c7616-5b9d-4325-93eb-db8a0be2fb09\">\n",
              "    <div class=\"colab-df-container\">\n",
              "      <div>\n",
              "<style scoped>\n",
              "    .dataframe tbody tr th:only-of-type {\n",
              "        vertical-align: middle;\n",
              "    }\n",
              "\n",
              "    .dataframe tbody tr th {\n",
              "        vertical-align: top;\n",
              "    }\n",
              "\n",
              "    .dataframe thead th {\n",
              "        text-align: right;\n",
              "    }\n",
              "</style>\n",
              "<table border=\"1\" class=\"dataframe\">\n",
              "  <thead>\n",
              "    <tr style=\"text-align: right;\">\n",
              "      <th></th>\n",
              "      <th>0</th>\n",
              "      <th>1</th>\n",
              "      <th>2</th>\n",
              "      <th>3</th>\n",
              "      <th>4</th>\n",
              "      <th>5</th>\n",
              "      <th>6</th>\n",
              "      <th>7</th>\n",
              "      <th>8</th>\n",
              "      <th>9</th>\n",
              "      <th>10</th>\n",
              "      <th>11</th>\n",
              "      <th>12</th>\n",
              "      <th>13</th>\n",
              "      <th>14</th>\n",
              "    </tr>\n",
              "  </thead>\n",
              "  <tbody>\n",
              "    <tr>\n",
              "      <th>0</th>\n",
              "      <td>2019</td>\n",
              "      <td>2018</td>\n",
              "      <td>2017</td>\n",
              "      <td>2016</td>\n",
              "      <td>2015</td>\n",
              "      <td>2014</td>\n",
              "      <td>2013</td>\n",
              "      <td>2012</td>\n",
              "      <td>2011</td>\n",
              "      <td>2010</td>\n",
              "      <td>2009</td>\n",
              "      <td>2008</td>\n",
              "      <td>2007</td>\n",
              "      <td>2006</td>\n",
              "      <td>2005</td>\n",
              "    </tr>\n",
              "    <tr>\n",
              "      <th>2</th>\n",
              "      <td>$72108</td>\n",
              "      <td>$69074</td>\n",
              "      <td>$67680</td>\n",
              "      <td>$67021</td>\n",
              "      <td>$65664</td>\n",
              "      <td>$63645</td>\n",
              "      <td>$63064</td>\n",
              "      <td>$62971</td>\n",
              "      <td>$62936</td>\n",
              "      <td>$63629</td>\n",
              "      <td>$65289</td>\n",
              "      <td>$66698</td>\n",
              "      <td>$66145</td>\n",
              "      <td>$65314</td>\n",
              "      <td>$64933</td>\n",
              "    </tr>\n",
              "  </tbody>\n",
              "</table>\n",
              "</div>\n",
              "      <button class=\"colab-df-convert\" onclick=\"convertToInteractive('df-ce3c7616-5b9d-4325-93eb-db8a0be2fb09')\"\n",
              "              title=\"Convert this dataframe to an interactive table.\"\n",
              "              style=\"display:none;\">\n",
              "        \n",
              "  <svg xmlns=\"http://www.w3.org/2000/svg\" height=\"24px\"viewBox=\"0 0 24 24\"\n",
              "       width=\"24px\">\n",
              "    <path d=\"M0 0h24v24H0V0z\" fill=\"none\"/>\n",
              "    <path d=\"M18.56 5.44l.94 2.06.94-2.06 2.06-.94-2.06-.94-.94-2.06-.94 2.06-2.06.94zm-11 1L8.5 8.5l.94-2.06 2.06-.94-2.06-.94L8.5 2.5l-.94 2.06-2.06.94zm10 10l.94 2.06.94-2.06 2.06-.94-2.06-.94-.94-2.06-.94 2.06-2.06.94z\"/><path d=\"M17.41 7.96l-1.37-1.37c-.4-.4-.92-.59-1.43-.59-.52 0-1.04.2-1.43.59L10.3 9.45l-7.72 7.72c-.78.78-.78 2.05 0 2.83L4 21.41c.39.39.9.59 1.41.59.51 0 1.02-.2 1.41-.59l7.78-7.78 2.81-2.81c.8-.78.8-2.07 0-2.86zM5.41 20L4 18.59l7.72-7.72 1.47 1.35L5.41 20z\"/>\n",
              "  </svg>\n",
              "      </button>\n",
              "      \n",
              "  <style>\n",
              "    .colab-df-container {\n",
              "      display:flex;\n",
              "      flex-wrap:wrap;\n",
              "      gap: 12px;\n",
              "    }\n",
              "\n",
              "    .colab-df-convert {\n",
              "      background-color: #E8F0FE;\n",
              "      border: none;\n",
              "      border-radius: 50%;\n",
              "      cursor: pointer;\n",
              "      display: none;\n",
              "      fill: #1967D2;\n",
              "      height: 32px;\n",
              "      padding: 0 0 0 0;\n",
              "      width: 32px;\n",
              "    }\n",
              "\n",
              "    .colab-df-convert:hover {\n",
              "      background-color: #E2EBFA;\n",
              "      box-shadow: 0px 1px 2px rgba(60, 64, 67, 0.3), 0px 1px 3px 1px rgba(60, 64, 67, 0.15);\n",
              "      fill: #174EA6;\n",
              "    }\n",
              "\n",
              "    [theme=dark] .colab-df-convert {\n",
              "      background-color: #3B4455;\n",
              "      fill: #D2E3FC;\n",
              "    }\n",
              "\n",
              "    [theme=dark] .colab-df-convert:hover {\n",
              "      background-color: #434B5C;\n",
              "      box-shadow: 0px 1px 3px 1px rgba(0, 0, 0, 0.15);\n",
              "      filter: drop-shadow(0px 1px 2px rgba(0, 0, 0, 0.3));\n",
              "      fill: #FFFFFF;\n",
              "    }\n",
              "  </style>\n",
              "\n",
              "      <script>\n",
              "        const buttonEl =\n",
              "          document.querySelector('#df-ce3c7616-5b9d-4325-93eb-db8a0be2fb09 button.colab-df-convert');\n",
              "        buttonEl.style.display =\n",
              "          google.colab.kernel.accessAllowed ? 'block' : 'none';\n",
              "\n",
              "        async function convertToInteractive(key) {\n",
              "          const element = document.querySelector('#df-ce3c7616-5b9d-4325-93eb-db8a0be2fb09');\n",
              "          const dataTable =\n",
              "            await google.colab.kernel.invokeFunction('convertToInteractive',\n",
              "                                                     [key], {});\n",
              "          if (!dataTable) return;\n",
              "\n",
              "          const docLinkHtml = 'Like what you see? Visit the ' +\n",
              "            '<a target=\"_blank\" href=https://colab.research.google.com/notebooks/data_table.ipynb>data table notebook</a>'\n",
              "            + ' to learn more about interactive tables.';\n",
              "          element.innerHTML = '';\n",
              "          dataTable['output_type'] = 'display_data';\n",
              "          await google.colab.output.renderOutput(dataTable, element);\n",
              "          const docLink = document.createElement('div');\n",
              "          docLink.innerHTML = docLinkHtml;\n",
              "          element.appendChild(docLink);\n",
              "        }\n",
              "      </script>\n",
              "    </div>\n",
              "  </div>\n",
              "  "
            ],
            "text/plain": [
              "       0       1       2       3       4       5       6       7       8   \\\n",
              "0    2019    2018    2017    2016    2015    2014    2013    2012    2011   \n",
              "2  $72108  $69074  $67680  $67021  $65664  $63645  $63064  $62971  $62936   \n",
              "\n",
              "       9       10      11      12      13      14  \n",
              "0    2010    2009    2008    2007    2006    2005  \n",
              "2  $63629  $65289  $66698  $66145  $65314  $64933  "
            ]
          },
          "execution_count": 42,
          "metadata": {},
          "output_type": "execute_result"
        }
      ],
      "source": [
        "#getting rid of the irrelevant column\n",
        "income_table.drop(1, axis='columns', inplace=True)\n",
        "\n",
        "#switching the rows and columns to make it more easily readable\n",
        "income_table = income_table.transpose()\n",
        "\n",
        "#double checking the data\n",
        "income_table.head()"
      ]
    },
    {
      "cell_type": "code",
      "execution_count": null,
      "metadata": {
        "colab": {
          "base_uri": "https://localhost:8080/",
          "height": 112
        },
        "id": "8LI1R2VZJigR",
        "outputId": "47480727-f2f9-4923-b7c6-63b575b61308"
      },
      "outputs": [
        {
          "data": {
            "text/html": [
              "\n",
              "  <div id=\"df-725688ae-cf9f-44f3-9f23-2a66aabe83d6\">\n",
              "    <div class=\"colab-df-container\">\n",
              "      <div>\n",
              "<style scoped>\n",
              "    .dataframe tbody tr th:only-of-type {\n",
              "        vertical-align: middle;\n",
              "    }\n",
              "\n",
              "    .dataframe tbody tr th {\n",
              "        vertical-align: top;\n",
              "    }\n",
              "\n",
              "    .dataframe thead th {\n",
              "        text-align: right;\n",
              "    }\n",
              "</style>\n",
              "<table border=\"1\" class=\"dataframe\">\n",
              "  <thead>\n",
              "    <tr style=\"text-align: right;\">\n",
              "      <th></th>\n",
              "      <th>0</th>\n",
              "      <th>1</th>\n",
              "      <th>2</th>\n",
              "      <th>3</th>\n",
              "      <th>4</th>\n",
              "      <th>5</th>\n",
              "      <th>6</th>\n",
              "      <th>7</th>\n",
              "    </tr>\n",
              "  </thead>\n",
              "  <tbody>\n",
              "    <tr>\n",
              "      <th>0</th>\n",
              "      <td>2019</td>\n",
              "      <td>2018</td>\n",
              "      <td>2017</td>\n",
              "      <td>2016</td>\n",
              "      <td>2015</td>\n",
              "      <td>2014</td>\n",
              "      <td>2013</td>\n",
              "      <td>2012</td>\n",
              "    </tr>\n",
              "    <tr>\n",
              "      <th>2</th>\n",
              "      <td>$72108</td>\n",
              "      <td>$69074</td>\n",
              "      <td>$67680</td>\n",
              "      <td>$67021</td>\n",
              "      <td>$65664</td>\n",
              "      <td>$63645</td>\n",
              "      <td>$63064</td>\n",
              "      <td>$62971</td>\n",
              "    </tr>\n",
              "  </tbody>\n",
              "</table>\n",
              "</div>\n",
              "      <button class=\"colab-df-convert\" onclick=\"convertToInteractive('df-725688ae-cf9f-44f3-9f23-2a66aabe83d6')\"\n",
              "              title=\"Convert this dataframe to an interactive table.\"\n",
              "              style=\"display:none;\">\n",
              "        \n",
              "  <svg xmlns=\"http://www.w3.org/2000/svg\" height=\"24px\"viewBox=\"0 0 24 24\"\n",
              "       width=\"24px\">\n",
              "    <path d=\"M0 0h24v24H0V0z\" fill=\"none\"/>\n",
              "    <path d=\"M18.56 5.44l.94 2.06.94-2.06 2.06-.94-2.06-.94-.94-2.06-.94 2.06-2.06.94zm-11 1L8.5 8.5l.94-2.06 2.06-.94-2.06-.94L8.5 2.5l-.94 2.06-2.06.94zm10 10l.94 2.06.94-2.06 2.06-.94-2.06-.94-.94-2.06-.94 2.06-2.06.94z\"/><path d=\"M17.41 7.96l-1.37-1.37c-.4-.4-.92-.59-1.43-.59-.52 0-1.04.2-1.43.59L10.3 9.45l-7.72 7.72c-.78.78-.78 2.05 0 2.83L4 21.41c.39.39.9.59 1.41.59.51 0 1.02-.2 1.41-.59l7.78-7.78 2.81-2.81c.8-.78.8-2.07 0-2.86zM5.41 20L4 18.59l7.72-7.72 1.47 1.35L5.41 20z\"/>\n",
              "  </svg>\n",
              "      </button>\n",
              "      \n",
              "  <style>\n",
              "    .colab-df-container {\n",
              "      display:flex;\n",
              "      flex-wrap:wrap;\n",
              "      gap: 12px;\n",
              "    }\n",
              "\n",
              "    .colab-df-convert {\n",
              "      background-color: #E8F0FE;\n",
              "      border: none;\n",
              "      border-radius: 50%;\n",
              "      cursor: pointer;\n",
              "      display: none;\n",
              "      fill: #1967D2;\n",
              "      height: 32px;\n",
              "      padding: 0 0 0 0;\n",
              "      width: 32px;\n",
              "    }\n",
              "\n",
              "    .colab-df-convert:hover {\n",
              "      background-color: #E2EBFA;\n",
              "      box-shadow: 0px 1px 2px rgba(60, 64, 67, 0.3), 0px 1px 3px 1px rgba(60, 64, 67, 0.15);\n",
              "      fill: #174EA6;\n",
              "    }\n",
              "\n",
              "    [theme=dark] .colab-df-convert {\n",
              "      background-color: #3B4455;\n",
              "      fill: #D2E3FC;\n",
              "    }\n",
              "\n",
              "    [theme=dark] .colab-df-convert:hover {\n",
              "      background-color: #434B5C;\n",
              "      box-shadow: 0px 1px 3px 1px rgba(0, 0, 0, 0.15);\n",
              "      filter: drop-shadow(0px 1px 2px rgba(0, 0, 0, 0.3));\n",
              "      fill: #FFFFFF;\n",
              "    }\n",
              "  </style>\n",
              "\n",
              "      <script>\n",
              "        const buttonEl =\n",
              "          document.querySelector('#df-725688ae-cf9f-44f3-9f23-2a66aabe83d6 button.colab-df-convert');\n",
              "        buttonEl.style.display =\n",
              "          google.colab.kernel.accessAllowed ? 'block' : 'none';\n",
              "\n",
              "        async function convertToInteractive(key) {\n",
              "          const element = document.querySelector('#df-725688ae-cf9f-44f3-9f23-2a66aabe83d6');\n",
              "          const dataTable =\n",
              "            await google.colab.kernel.invokeFunction('convertToInteractive',\n",
              "                                                     [key], {});\n",
              "          if (!dataTable) return;\n",
              "\n",
              "          const docLinkHtml = 'Like what you see? Visit the ' +\n",
              "            '<a target=\"_blank\" href=https://colab.research.google.com/notebooks/data_table.ipynb>data table notebook</a>'\n",
              "            + ' to learn more about interactive tables.';\n",
              "          element.innerHTML = '';\n",
              "          dataTable['output_type'] = 'display_data';\n",
              "          await google.colab.output.renderOutput(dataTable, element);\n",
              "          const docLink = document.createElement('div');\n",
              "          docLink.innerHTML = docLinkHtml;\n",
              "          element.appendChild(docLink);\n",
              "        }\n",
              "      </script>\n",
              "    </div>\n",
              "  </div>\n",
              "  "
            ],
            "text/plain": [
              "        0       1       2       3       4       5       6       7\n",
              "0    2019    2018    2017    2016    2015    2014    2013    2012\n",
              "2  $72108  $69074  $67680  $67021  $65664  $63645  $63064  $62971"
            ]
          },
          "execution_count": 43,
          "metadata": {},
          "output_type": "execute_result"
        }
      ],
      "source": [
        "#getting rid of the irrelevant rows\n",
        "for x in range (8,15):\n",
        "    income_table.drop(x, axis='columns', inplace=True)\n",
        "\n",
        "income_table.head()"
      ]
    },
    {
      "cell_type": "code",
      "execution_count": null,
      "metadata": {
        "colab": {
          "base_uri": "https://localhost:8080/"
        },
        "id": "x74q_G8OELQz",
        "outputId": "97600906-e609-4a63-9065-4199644b2f1b"
      },
      "outputs": [
        {
          "data": {
            "text/plain": [
              "0    object\n",
              "2    object\n",
              "dtype: object"
            ]
          },
          "execution_count": 44,
          "metadata": {},
          "output_type": "execute_result"
        }
      ],
      "source": [
        "#this loop takes the values with a \".0\" and takes it away so the data is clean\n",
        "for x in range(0,8):\n",
        "    temp = income_table.iat[1,x]\n",
        "    temp = str(temp)\n",
        "    temp = temp[1:6]\n",
        "    income_table.iat[1,x] = int(temp)\n",
        "    x=+1\n",
        "\n",
        "#we need to transpose to make the table readable for matplotlib\n",
        "income_table = income_table.transpose()\n",
        "\n",
        "#the datatype is object, and we need it to be int64 for matplotlib\n",
        "#we will just end up casting the dataframe to int64 for Matplotlib\n",
        "income_table.dtypes"
      ]
    },
    {
      "cell_type": "code",
      "execution_count": null,
      "metadata": {
        "colab": {
          "base_uri": "https://localhost:8080/",
          "height": 238
        },
        "id": "TljGSgTbUFJx",
        "outputId": "87b4e5b3-7263-42b7-990b-a765316ba493"
      },
      "outputs": [
        {
          "data": {
            "text/html": [
              "\n",
              "  <div id=\"df-8bd1d6fd-8a6c-4a4a-a050-710402543614\">\n",
              "    <div class=\"colab-df-container\">\n",
              "      <div>\n",
              "<style scoped>\n",
              "    .dataframe tbody tr th:only-of-type {\n",
              "        vertical-align: middle;\n",
              "    }\n",
              "\n",
              "    .dataframe tbody tr th {\n",
              "        vertical-align: top;\n",
              "    }\n",
              "\n",
              "    .dataframe thead th {\n",
              "        text-align: right;\n",
              "    }\n",
              "</style>\n",
              "<table border=\"1\" class=\"dataframe\">\n",
              "  <thead>\n",
              "    <tr style=\"text-align: right;\">\n",
              "      <th></th>\n",
              "      <th>2</th>\n",
              "    </tr>\n",
              "    <tr>\n",
              "      <th>0</th>\n",
              "      <th></th>\n",
              "    </tr>\n",
              "  </thead>\n",
              "  <tbody>\n",
              "    <tr>\n",
              "      <th>2019</th>\n",
              "      <td>72108</td>\n",
              "    </tr>\n",
              "    <tr>\n",
              "      <th>2018</th>\n",
              "      <td>69074</td>\n",
              "    </tr>\n",
              "    <tr>\n",
              "      <th>2017</th>\n",
              "      <td>67680</td>\n",
              "    </tr>\n",
              "    <tr>\n",
              "      <th>2016</th>\n",
              "      <td>67021</td>\n",
              "    </tr>\n",
              "    <tr>\n",
              "      <th>2015</th>\n",
              "      <td>65664</td>\n",
              "    </tr>\n",
              "  </tbody>\n",
              "</table>\n",
              "</div>\n",
              "      <button class=\"colab-df-convert\" onclick=\"convertToInteractive('df-8bd1d6fd-8a6c-4a4a-a050-710402543614')\"\n",
              "              title=\"Convert this dataframe to an interactive table.\"\n",
              "              style=\"display:none;\">\n",
              "        \n",
              "  <svg xmlns=\"http://www.w3.org/2000/svg\" height=\"24px\"viewBox=\"0 0 24 24\"\n",
              "       width=\"24px\">\n",
              "    <path d=\"M0 0h24v24H0V0z\" fill=\"none\"/>\n",
              "    <path d=\"M18.56 5.44l.94 2.06.94-2.06 2.06-.94-2.06-.94-.94-2.06-.94 2.06-2.06.94zm-11 1L8.5 8.5l.94-2.06 2.06-.94-2.06-.94L8.5 2.5l-.94 2.06-2.06.94zm10 10l.94 2.06.94-2.06 2.06-.94-2.06-.94-.94-2.06-.94 2.06-2.06.94z\"/><path d=\"M17.41 7.96l-1.37-1.37c-.4-.4-.92-.59-1.43-.59-.52 0-1.04.2-1.43.59L10.3 9.45l-7.72 7.72c-.78.78-.78 2.05 0 2.83L4 21.41c.39.39.9.59 1.41.59.51 0 1.02-.2 1.41-.59l7.78-7.78 2.81-2.81c.8-.78.8-2.07 0-2.86zM5.41 20L4 18.59l7.72-7.72 1.47 1.35L5.41 20z\"/>\n",
              "  </svg>\n",
              "      </button>\n",
              "      \n",
              "  <style>\n",
              "    .colab-df-container {\n",
              "      display:flex;\n",
              "      flex-wrap:wrap;\n",
              "      gap: 12px;\n",
              "    }\n",
              "\n",
              "    .colab-df-convert {\n",
              "      background-color: #E8F0FE;\n",
              "      border: none;\n",
              "      border-radius: 50%;\n",
              "      cursor: pointer;\n",
              "      display: none;\n",
              "      fill: #1967D2;\n",
              "      height: 32px;\n",
              "      padding: 0 0 0 0;\n",
              "      width: 32px;\n",
              "    }\n",
              "\n",
              "    .colab-df-convert:hover {\n",
              "      background-color: #E2EBFA;\n",
              "      box-shadow: 0px 1px 2px rgba(60, 64, 67, 0.3), 0px 1px 3px 1px rgba(60, 64, 67, 0.15);\n",
              "      fill: #174EA6;\n",
              "    }\n",
              "\n",
              "    [theme=dark] .colab-df-convert {\n",
              "      background-color: #3B4455;\n",
              "      fill: #D2E3FC;\n",
              "    }\n",
              "\n",
              "    [theme=dark] .colab-df-convert:hover {\n",
              "      background-color: #434B5C;\n",
              "      box-shadow: 0px 1px 3px 1px rgba(0, 0, 0, 0.15);\n",
              "      filter: drop-shadow(0px 1px 2px rgba(0, 0, 0, 0.3));\n",
              "      fill: #FFFFFF;\n",
              "    }\n",
              "  </style>\n",
              "\n",
              "      <script>\n",
              "        const buttonEl =\n",
              "          document.querySelector('#df-8bd1d6fd-8a6c-4a4a-a050-710402543614 button.colab-df-convert');\n",
              "        buttonEl.style.display =\n",
              "          google.colab.kernel.accessAllowed ? 'block' : 'none';\n",
              "\n",
              "        async function convertToInteractive(key) {\n",
              "          const element = document.querySelector('#df-8bd1d6fd-8a6c-4a4a-a050-710402543614');\n",
              "          const dataTable =\n",
              "            await google.colab.kernel.invokeFunction('convertToInteractive',\n",
              "                                                     [key], {});\n",
              "          if (!dataTable) return;\n",
              "\n",
              "          const docLinkHtml = 'Like what you see? Visit the ' +\n",
              "            '<a target=\"_blank\" href=https://colab.research.google.com/notebooks/data_table.ipynb>data table notebook</a>'\n",
              "            + ' to learn more about interactive tables.';\n",
              "          element.innerHTML = '';\n",
              "          dataTable['output_type'] = 'display_data';\n",
              "          await google.colab.output.renderOutput(dataTable, element);\n",
              "          const docLink = document.createElement('div');\n",
              "          docLink.innerHTML = docLinkHtml;\n",
              "          element.appendChild(docLink);\n",
              "        }\n",
              "      </script>\n",
              "    </div>\n",
              "  </div>\n",
              "  "
            ],
            "text/plain": [
              "          2\n",
              "0          \n",
              "2019  72108\n",
              "2018  69074\n",
              "2017  67680\n",
              "2016  67021\n",
              "2015  65664"
            ]
          },
          "execution_count": 45,
          "metadata": {},
          "output_type": "execute_result"
        }
      ],
      "source": [
        "#we have to drop the indexes or MatPlotLib will use the indexes to plot\n",
        "income_table = income_table.set_index(0)\n",
        "\n",
        "#checking that the indexes were dropped correctly\n",
        "income_table.head()"
      ]
    },
    {
      "cell_type": "code",
      "execution_count": null,
      "metadata": {
        "colab": {
          "base_uri": "https://localhost:8080/",
          "height": 238
        },
        "id": "FeQEn6vjhvW6",
        "outputId": "18c1d19f-a8a9-4173-8a93-3a70f9799dc9"
      },
      "outputs": [
        {
          "data": {
            "text/html": [
              "\n",
              "  <div id=\"df-05db0575-d882-4f64-84f6-ed86b83e133e\">\n",
              "    <div class=\"colab-df-container\">\n",
              "      <div>\n",
              "<style scoped>\n",
              "    .dataframe tbody tr th:only-of-type {\n",
              "        vertical-align: middle;\n",
              "    }\n",
              "\n",
              "    .dataframe tbody tr th {\n",
              "        vertical-align: top;\n",
              "    }\n",
              "\n",
              "    .dataframe thead th {\n",
              "        text-align: right;\n",
              "    }\n",
              "</style>\n",
              "<table border=\"1\" class=\"dataframe\">\n",
              "  <thead>\n",
              "    <tr style=\"text-align: right;\">\n",
              "      <th></th>\n",
              "      <th>2</th>\n",
              "    </tr>\n",
              "    <tr>\n",
              "      <th>0</th>\n",
              "      <th></th>\n",
              "    </tr>\n",
              "  </thead>\n",
              "  <tbody>\n",
              "    <tr>\n",
              "      <th>2012</th>\n",
              "      <td>62971</td>\n",
              "    </tr>\n",
              "    <tr>\n",
              "      <th>2013</th>\n",
              "      <td>63064</td>\n",
              "    </tr>\n",
              "    <tr>\n",
              "      <th>2014</th>\n",
              "      <td>63645</td>\n",
              "    </tr>\n",
              "    <tr>\n",
              "      <th>2015</th>\n",
              "      <td>65664</td>\n",
              "    </tr>\n",
              "    <tr>\n",
              "      <th>2016</th>\n",
              "      <td>67021</td>\n",
              "    </tr>\n",
              "  </tbody>\n",
              "</table>\n",
              "</div>\n",
              "      <button class=\"colab-df-convert\" onclick=\"convertToInteractive('df-05db0575-d882-4f64-84f6-ed86b83e133e')\"\n",
              "              title=\"Convert this dataframe to an interactive table.\"\n",
              "              style=\"display:none;\">\n",
              "        \n",
              "  <svg xmlns=\"http://www.w3.org/2000/svg\" height=\"24px\"viewBox=\"0 0 24 24\"\n",
              "       width=\"24px\">\n",
              "    <path d=\"M0 0h24v24H0V0z\" fill=\"none\"/>\n",
              "    <path d=\"M18.56 5.44l.94 2.06.94-2.06 2.06-.94-2.06-.94-.94-2.06-.94 2.06-2.06.94zm-11 1L8.5 8.5l.94-2.06 2.06-.94-2.06-.94L8.5 2.5l-.94 2.06-2.06.94zm10 10l.94 2.06.94-2.06 2.06-.94-2.06-.94-.94-2.06-.94 2.06-2.06.94z\"/><path d=\"M17.41 7.96l-1.37-1.37c-.4-.4-.92-.59-1.43-.59-.52 0-1.04.2-1.43.59L10.3 9.45l-7.72 7.72c-.78.78-.78 2.05 0 2.83L4 21.41c.39.39.9.59 1.41.59.51 0 1.02-.2 1.41-.59l7.78-7.78 2.81-2.81c.8-.78.8-2.07 0-2.86zM5.41 20L4 18.59l7.72-7.72 1.47 1.35L5.41 20z\"/>\n",
              "  </svg>\n",
              "      </button>\n",
              "      \n",
              "  <style>\n",
              "    .colab-df-container {\n",
              "      display:flex;\n",
              "      flex-wrap:wrap;\n",
              "      gap: 12px;\n",
              "    }\n",
              "\n",
              "    .colab-df-convert {\n",
              "      background-color: #E8F0FE;\n",
              "      border: none;\n",
              "      border-radius: 50%;\n",
              "      cursor: pointer;\n",
              "      display: none;\n",
              "      fill: #1967D2;\n",
              "      height: 32px;\n",
              "      padding: 0 0 0 0;\n",
              "      width: 32px;\n",
              "    }\n",
              "\n",
              "    .colab-df-convert:hover {\n",
              "      background-color: #E2EBFA;\n",
              "      box-shadow: 0px 1px 2px rgba(60, 64, 67, 0.3), 0px 1px 3px 1px rgba(60, 64, 67, 0.15);\n",
              "      fill: #174EA6;\n",
              "    }\n",
              "\n",
              "    [theme=dark] .colab-df-convert {\n",
              "      background-color: #3B4455;\n",
              "      fill: #D2E3FC;\n",
              "    }\n",
              "\n",
              "    [theme=dark] .colab-df-convert:hover {\n",
              "      background-color: #434B5C;\n",
              "      box-shadow: 0px 1px 3px 1px rgba(0, 0, 0, 0.15);\n",
              "      filter: drop-shadow(0px 1px 2px rgba(0, 0, 0, 0.3));\n",
              "      fill: #FFFFFF;\n",
              "    }\n",
              "  </style>\n",
              "\n",
              "      <script>\n",
              "        const buttonEl =\n",
              "          document.querySelector('#df-05db0575-d882-4f64-84f6-ed86b83e133e button.colab-df-convert');\n",
              "        buttonEl.style.display =\n",
              "          google.colab.kernel.accessAllowed ? 'block' : 'none';\n",
              "\n",
              "        async function convertToInteractive(key) {\n",
              "          const element = document.querySelector('#df-05db0575-d882-4f64-84f6-ed86b83e133e');\n",
              "          const dataTable =\n",
              "            await google.colab.kernel.invokeFunction('convertToInteractive',\n",
              "                                                     [key], {});\n",
              "          if (!dataTable) return;\n",
              "\n",
              "          const docLinkHtml = 'Like what you see? Visit the ' +\n",
              "            '<a target=\"_blank\" href=https://colab.research.google.com/notebooks/data_table.ipynb>data table notebook</a>'\n",
              "            + ' to learn more about interactive tables.';\n",
              "          element.innerHTML = '';\n",
              "          dataTable['output_type'] = 'display_data';\n",
              "          await google.colab.output.renderOutput(dataTable, element);\n",
              "          const docLink = document.createElement('div');\n",
              "          docLink.innerHTML = docLinkHtml;\n",
              "          element.appendChild(docLink);\n",
              "        }\n",
              "      </script>\n",
              "    </div>\n",
              "  </div>\n",
              "  "
            ],
            "text/plain": [
              "          2\n",
              "0          \n",
              "2012  62971\n",
              "2013  63064\n",
              "2014  63645\n",
              "2015  65664\n",
              "2016  67021"
            ]
          },
          "execution_count": 46,
          "metadata": {},
          "output_type": "execute_result"
        }
      ],
      "source": [
        "#we have to sort by 2012-2019, because it is in reverse right now\n",
        "income_table = income_table.sort_index(axis=0, level=None, ascending=True)\n",
        "\n",
        "#checking that the sorting worked correctly\n",
        "income_table.head()"
      ]
    },
    {
      "cell_type": "code",
      "execution_count": null,
      "metadata": {
        "id": "Id-hMrV92-O-"
      },
      "outputs": [],
      "source": [
        "#getting rid of the first column of data that is not needed\n",
        "us_prices.drop(0, axis='rows', inplace=True)\n",
        "\n",
        "#looping so that we do not have to have 90+ lines of code to do this task\n",
        "for x in range(2,95):\n",
        "    us_prices.drop(x, axis='rows', inplace=True)\n",
        "\n",
        "#changing the variable name to correctly match the data\n",
        "#ny_prices represents that we have culled the data down to just New York\n",
        "#housing data\n",
        "ny_prices = us_prices"
      ]
    },
    {
      "cell_type": "code",
      "execution_count": null,
      "metadata": {
        "colab": {
          "base_uri": "https://localhost:8080/",
          "height": 171
        },
        "id": "2dOvSUQEl3Ze",
        "outputId": "a4272659-f821-47d7-c15d-403003205ee5"
      },
      "outputs": [
        {
          "data": {
            "text/html": [
              "\n",
              "  <div id=\"df-e86ae5cb-7068-4130-b8c0-d953edcb5179\">\n",
              "    <div class=\"colab-df-container\">\n",
              "      <div>\n",
              "<style scoped>\n",
              "    .dataframe tbody tr th:only-of-type {\n",
              "        vertical-align: middle;\n",
              "    }\n",
              "\n",
              "    .dataframe tbody tr th {\n",
              "        vertical-align: top;\n",
              "    }\n",
              "\n",
              "    .dataframe thead th {\n",
              "        text-align: right;\n",
              "    }\n",
              "</style>\n",
              "<table border=\"1\" class=\"dataframe\">\n",
              "  <thead>\n",
              "    <tr style=\"text-align: right;\">\n",
              "      <th></th>\n",
              "      <th>2012-04-30</th>\n",
              "      <th>2012-05-31</th>\n",
              "      <th>2012-06-30</th>\n",
              "      <th>2012-07-31</th>\n",
              "      <th>2012-08-31</th>\n",
              "      <th>2012-09-30</th>\n",
              "      <th>2012-10-31</th>\n",
              "      <th>2012-11-30</th>\n",
              "      <th>2012-12-31</th>\n",
              "      <th>2013-01-31</th>\n",
              "      <th>...</th>\n",
              "      <th>2021-03-31</th>\n",
              "      <th>2021-04-30</th>\n",
              "      <th>2021-05-31</th>\n",
              "      <th>2021-06-30</th>\n",
              "      <th>2021-07-31</th>\n",
              "      <th>2021-08-31</th>\n",
              "      <th>2021-09-30</th>\n",
              "      <th>2021-10-31</th>\n",
              "      <th>2021-11-30</th>\n",
              "      <th>2021-12-31</th>\n",
              "    </tr>\n",
              "  </thead>\n",
              "  <tbody>\n",
              "    <tr>\n",
              "      <th>1</th>\n",
              "      <td>352858.0</td>\n",
              "      <td>356995.0</td>\n",
              "      <td>361310.0</td>\n",
              "      <td>362366.0</td>\n",
              "      <td>361748.0</td>\n",
              "      <td>369707.0</td>\n",
              "      <td>370226.0</td>\n",
              "      <td>372958.0</td>\n",
              "      <td>362175.0</td>\n",
              "      <td>359896.0</td>\n",
              "      <td>...</td>\n",
              "      <td>481624.0</td>\n",
              "      <td>489883.0</td>\n",
              "      <td>497344.0</td>\n",
              "      <td>505139.0</td>\n",
              "      <td>509247.0</td>\n",
              "      <td>514403.0</td>\n",
              "      <td>518050.0</td>\n",
              "      <td>521544.0</td>\n",
              "      <td>521384.0</td>\n",
              "      <td>524472.0</td>\n",
              "    </tr>\n",
              "  </tbody>\n",
              "</table>\n",
              "<p>1 rows × 117 columns</p>\n",
              "</div>\n",
              "      <button class=\"colab-df-convert\" onclick=\"convertToInteractive('df-e86ae5cb-7068-4130-b8c0-d953edcb5179')\"\n",
              "              title=\"Convert this dataframe to an interactive table.\"\n",
              "              style=\"display:none;\">\n",
              "        \n",
              "  <svg xmlns=\"http://www.w3.org/2000/svg\" height=\"24px\"viewBox=\"0 0 24 24\"\n",
              "       width=\"24px\">\n",
              "    <path d=\"M0 0h24v24H0V0z\" fill=\"none\"/>\n",
              "    <path d=\"M18.56 5.44l.94 2.06.94-2.06 2.06-.94-2.06-.94-.94-2.06-.94 2.06-2.06.94zm-11 1L8.5 8.5l.94-2.06 2.06-.94-2.06-.94L8.5 2.5l-.94 2.06-2.06.94zm10 10l.94 2.06.94-2.06 2.06-.94-2.06-.94-.94-2.06-.94 2.06-2.06.94z\"/><path d=\"M17.41 7.96l-1.37-1.37c-.4-.4-.92-.59-1.43-.59-.52 0-1.04.2-1.43.59L10.3 9.45l-7.72 7.72c-.78.78-.78 2.05 0 2.83L4 21.41c.39.39.9.59 1.41.59.51 0 1.02-.2 1.41-.59l7.78-7.78 2.81-2.81c.8-.78.8-2.07 0-2.86zM5.41 20L4 18.59l7.72-7.72 1.47 1.35L5.41 20z\"/>\n",
              "  </svg>\n",
              "      </button>\n",
              "      \n",
              "  <style>\n",
              "    .colab-df-container {\n",
              "      display:flex;\n",
              "      flex-wrap:wrap;\n",
              "      gap: 12px;\n",
              "    }\n",
              "\n",
              "    .colab-df-convert {\n",
              "      background-color: #E8F0FE;\n",
              "      border: none;\n",
              "      border-radius: 50%;\n",
              "      cursor: pointer;\n",
              "      display: none;\n",
              "      fill: #1967D2;\n",
              "      height: 32px;\n",
              "      padding: 0 0 0 0;\n",
              "      width: 32px;\n",
              "    }\n",
              "\n",
              "    .colab-df-convert:hover {\n",
              "      background-color: #E2EBFA;\n",
              "      box-shadow: 0px 1px 2px rgba(60, 64, 67, 0.3), 0px 1px 3px 1px rgba(60, 64, 67, 0.15);\n",
              "      fill: #174EA6;\n",
              "    }\n",
              "\n",
              "    [theme=dark] .colab-df-convert {\n",
              "      background-color: #3B4455;\n",
              "      fill: #D2E3FC;\n",
              "    }\n",
              "\n",
              "    [theme=dark] .colab-df-convert:hover {\n",
              "      background-color: #434B5C;\n",
              "      box-shadow: 0px 1px 3px 1px rgba(0, 0, 0, 0.15);\n",
              "      filter: drop-shadow(0px 1px 2px rgba(0, 0, 0, 0.3));\n",
              "      fill: #FFFFFF;\n",
              "    }\n",
              "  </style>\n",
              "\n",
              "      <script>\n",
              "        const buttonEl =\n",
              "          document.querySelector('#df-e86ae5cb-7068-4130-b8c0-d953edcb5179 button.colab-df-convert');\n",
              "        buttonEl.style.display =\n",
              "          google.colab.kernel.accessAllowed ? 'block' : 'none';\n",
              "\n",
              "        async function convertToInteractive(key) {\n",
              "          const element = document.querySelector('#df-e86ae5cb-7068-4130-b8c0-d953edcb5179');\n",
              "          const dataTable =\n",
              "            await google.colab.kernel.invokeFunction('convertToInteractive',\n",
              "                                                     [key], {});\n",
              "          if (!dataTable) return;\n",
              "\n",
              "          const docLinkHtml = 'Like what you see? Visit the ' +\n",
              "            '<a target=\"_blank\" href=https://colab.research.google.com/notebooks/data_table.ipynb>data table notebook</a>'\n",
              "            + ' to learn more about interactive tables.';\n",
              "          element.innerHTML = '';\n",
              "          dataTable['output_type'] = 'display_data';\n",
              "          await google.colab.output.renderOutput(dataTable, element);\n",
              "          const docLink = document.createElement('div');\n",
              "          docLink.innerHTML = docLinkHtml;\n",
              "          element.appendChild(docLink);\n",
              "        }\n",
              "      </script>\n",
              "    </div>\n",
              "  </div>\n",
              "  "
            ],
            "text/plain": [
              "   2012-04-30  2012-05-31  2012-06-30  2012-07-31  2012-08-31  2012-09-30  \\\n",
              "1    352858.0    356995.0    361310.0    362366.0    361748.0    369707.0   \n",
              "\n",
              "   2012-10-31  2012-11-30  2012-12-31  2013-01-31  ...  2021-03-31  \\\n",
              "1    370226.0    372958.0    362175.0    359896.0  ...    481624.0   \n",
              "\n",
              "   2021-04-30  2021-05-31  2021-06-30  2021-07-31  2021-08-31  2021-09-30  \\\n",
              "1    489883.0    497344.0    505139.0    509247.0    514403.0    518050.0   \n",
              "\n",
              "   2021-10-31  2021-11-30  2021-12-31  \n",
              "1    521544.0    521384.0    524472.0  \n",
              "\n",
              "[1 rows x 117 columns]"
            ]
          },
          "execution_count": 48,
          "metadata": {},
          "output_type": "execute_result"
        }
      ],
      "source": [
        "#we dont need all of the specific things like the ID and types and such\n",
        "#we only need the numbers because we know what the data shows\n",
        "#the code below gets rid of all the irrelevant columns\n",
        "ny_prices.drop('RegionID', axis='columns', inplace=True)\n",
        "ny_prices.drop('SizeRank', axis='columns', inplace=True)\n",
        "ny_prices.drop('RegionName', axis='columns', inplace=True)\n",
        "ny_prices.drop('RegionType', axis='columns', inplace=True)\n",
        "ny_prices.drop('StateName', axis='columns', inplace=True)\n",
        "\n",
        "#double checking the data again to make sure it only shows New York Data\n",
        "ny_prices.head()"
      ]
    },
    {
      "cell_type": "code",
      "execution_count": null,
      "metadata": {
        "id": "vuHa-Fx4x4Sz"
      },
      "outputs": [],
      "source": [
        "#this loop takes the values with a \".0\" and takes it away so the data is clean\n",
        "for x in range(0,117):\n",
        "    temp = ny_prices.iat[0,x]\n",
        "    temp = str(temp)\n",
        "    temp = temp[:-2]\n",
        "    ny_prices.iat[0,x] = temp\n",
        "    x=+1"
      ]
    },
    {
      "cell_type": "code",
      "execution_count": null,
      "metadata": {
        "colab": {
          "base_uri": "https://localhost:8080/"
        },
        "id": "fA0VtpjcxSjW",
        "outputId": "9272c247-3bec-4df4-b63a-6ce9cc126744"
      },
      "outputs": [
        {
          "name": "stdout",
          "output_type": "stream",
          "text": [
            "  2012-04-30 2012-05-31 2012-06-30 2012-07-31 2012-08-31 2012-09-30  \\\n",
            "1     352858     356995     361310     362366     361748     369707   \n",
            "\n",
            "  2012-10-31 2012-11-30 2012-12-31 2013-01-31  ... 2021-03-31 2021-04-30  \\\n",
            "1     370226     372958     362175     359896  ...     481624     489883   \n",
            "\n",
            "  2021-05-31 2021-06-30 2021-07-31 2021-08-31 2021-09-30 2021-10-31  \\\n",
            "1     497344     505139     509247     514403     518050     521544   \n",
            "\n",
            "  2021-11-30 2021-12-31  \n",
            "1     521384     524472  \n",
            "\n",
            "[1 rows x 117 columns]\n"
          ]
        }
      ],
      "source": [
        "#checking some of the data\n",
        "print(ny_prices)"
      ]
    },
    {
      "cell_type": "code",
      "execution_count": null,
      "metadata": {
        "id": "5yhR-8JY1GBa"
      },
      "outputs": [],
      "source": [
        "#averaging the costs in the housing dataset\n",
        "#since the csv is in months, we have to put it into year format\n",
        "total = 0\n",
        "\n",
        "#we need a special loop for 2012 because it is not a complete 12 months\n",
        "for x in range(0,9):\n",
        "    temp = ny_prices.iat[0,x]\n",
        "    total = total + int(temp)\n",
        "\n",
        "\n",
        "#creating a dictionary to put the averaged values in\n",
        "avg_price_dict = {2012:int(total/9)}\n",
        "\n",
        "#the next loop goes through the rest of the months in the csv file\n",
        "#it averages them, then inserts the average into the dictionary\n",
        "\n",
        "#this variable represents the first in the range\n",
        "f = 9\n",
        "#this variable represents the last in the range\n",
        "l = 21\n",
        "#this variable is tracking the year we are averaging\n",
        "year = 2013\n",
        "\n",
        "while year < 2020:\n",
        "    total = 0\n",
        "    for x in range(f,l):\n",
        "        temp = ny_prices.iat[0,x]\n",
        "        total = total + int(temp)\n",
        "    avg_price_dict[int(year)] = int(total/12)\n",
        "    year = year + 1\n",
        "    f = f + 12\n",
        "    l = l + 12"
      ]
    },
    {
      "cell_type": "code",
      "execution_count": null,
      "metadata": {
        "colab": {
          "base_uri": "https://localhost:8080/"
        },
        "id": "KfOBep7LvYAz",
        "outputId": "0f5cf8da-49bf-407d-e592-1916f2aa8116"
      },
      "outputs": [
        {
          "name": "stdout",
          "output_type": "stream",
          "text": [
            "{2012: 363371, 2013: 363481, 2014: 371127, 2015: 379846, 2016: 386460, 2017: 402296, 2018: 411928, 2019: 418640}\n"
          ]
        }
      ],
      "source": [
        "#looking at the output of the dictionary\n",
        "print(avg_price_dict)"
      ]
    },
    {
      "cell_type": "code",
      "execution_count": null,
      "metadata": {
        "colab": {
          "base_uri": "https://localhost:8080/",
          "height": 206
        },
        "id": "cRvSO-piwMS8",
        "outputId": "e617cd46-9ce6-4047-b851-465d319c8d96"
      },
      "outputs": [
        {
          "data": {
            "text/html": [
              "\n",
              "  <div id=\"df-2f5257eb-5ee5-4d40-9115-f391ab72f55f\">\n",
              "    <div class=\"colab-df-container\">\n",
              "      <div>\n",
              "<style scoped>\n",
              "    .dataframe tbody tr th:only-of-type {\n",
              "        vertical-align: middle;\n",
              "    }\n",
              "\n",
              "    .dataframe tbody tr th {\n",
              "        vertical-align: top;\n",
              "    }\n",
              "\n",
              "    .dataframe thead th {\n",
              "        text-align: right;\n",
              "    }\n",
              "</style>\n",
              "<table border=\"1\" class=\"dataframe\">\n",
              "  <thead>\n",
              "    <tr style=\"text-align: right;\">\n",
              "      <th></th>\n",
              "      <th>0</th>\n",
              "    </tr>\n",
              "  </thead>\n",
              "  <tbody>\n",
              "    <tr>\n",
              "      <th>2012</th>\n",
              "      <td>363371</td>\n",
              "    </tr>\n",
              "    <tr>\n",
              "      <th>2013</th>\n",
              "      <td>363481</td>\n",
              "    </tr>\n",
              "    <tr>\n",
              "      <th>2014</th>\n",
              "      <td>371127</td>\n",
              "    </tr>\n",
              "    <tr>\n",
              "      <th>2015</th>\n",
              "      <td>379846</td>\n",
              "    </tr>\n",
              "    <tr>\n",
              "      <th>2016</th>\n",
              "      <td>386460</td>\n",
              "    </tr>\n",
              "  </tbody>\n",
              "</table>\n",
              "</div>\n",
              "      <button class=\"colab-df-convert\" onclick=\"convertToInteractive('df-2f5257eb-5ee5-4d40-9115-f391ab72f55f')\"\n",
              "              title=\"Convert this dataframe to an interactive table.\"\n",
              "              style=\"display:none;\">\n",
              "        \n",
              "  <svg xmlns=\"http://www.w3.org/2000/svg\" height=\"24px\"viewBox=\"0 0 24 24\"\n",
              "       width=\"24px\">\n",
              "    <path d=\"M0 0h24v24H0V0z\" fill=\"none\"/>\n",
              "    <path d=\"M18.56 5.44l.94 2.06.94-2.06 2.06-.94-2.06-.94-.94-2.06-.94 2.06-2.06.94zm-11 1L8.5 8.5l.94-2.06 2.06-.94-2.06-.94L8.5 2.5l-.94 2.06-2.06.94zm10 10l.94 2.06.94-2.06 2.06-.94-2.06-.94-.94-2.06-.94 2.06-2.06.94z\"/><path d=\"M17.41 7.96l-1.37-1.37c-.4-.4-.92-.59-1.43-.59-.52 0-1.04.2-1.43.59L10.3 9.45l-7.72 7.72c-.78.78-.78 2.05 0 2.83L4 21.41c.39.39.9.59 1.41.59.51 0 1.02-.2 1.41-.59l7.78-7.78 2.81-2.81c.8-.78.8-2.07 0-2.86zM5.41 20L4 18.59l7.72-7.72 1.47 1.35L5.41 20z\"/>\n",
              "  </svg>\n",
              "      </button>\n",
              "      \n",
              "  <style>\n",
              "    .colab-df-container {\n",
              "      display:flex;\n",
              "      flex-wrap:wrap;\n",
              "      gap: 12px;\n",
              "    }\n",
              "\n",
              "    .colab-df-convert {\n",
              "      background-color: #E8F0FE;\n",
              "      border: none;\n",
              "      border-radius: 50%;\n",
              "      cursor: pointer;\n",
              "      display: none;\n",
              "      fill: #1967D2;\n",
              "      height: 32px;\n",
              "      padding: 0 0 0 0;\n",
              "      width: 32px;\n",
              "    }\n",
              "\n",
              "    .colab-df-convert:hover {\n",
              "      background-color: #E2EBFA;\n",
              "      box-shadow: 0px 1px 2px rgba(60, 64, 67, 0.3), 0px 1px 3px 1px rgba(60, 64, 67, 0.15);\n",
              "      fill: #174EA6;\n",
              "    }\n",
              "\n",
              "    [theme=dark] .colab-df-convert {\n",
              "      background-color: #3B4455;\n",
              "      fill: #D2E3FC;\n",
              "    }\n",
              "\n",
              "    [theme=dark] .colab-df-convert:hover {\n",
              "      background-color: #434B5C;\n",
              "      box-shadow: 0px 1px 3px 1px rgba(0, 0, 0, 0.15);\n",
              "      filter: drop-shadow(0px 1px 2px rgba(0, 0, 0, 0.3));\n",
              "      fill: #FFFFFF;\n",
              "    }\n",
              "  </style>\n",
              "\n",
              "      <script>\n",
              "        const buttonEl =\n",
              "          document.querySelector('#df-2f5257eb-5ee5-4d40-9115-f391ab72f55f button.colab-df-convert');\n",
              "        buttonEl.style.display =\n",
              "          google.colab.kernel.accessAllowed ? 'block' : 'none';\n",
              "\n",
              "        async function convertToInteractive(key) {\n",
              "          const element = document.querySelector('#df-2f5257eb-5ee5-4d40-9115-f391ab72f55f');\n",
              "          const dataTable =\n",
              "            await google.colab.kernel.invokeFunction('convertToInteractive',\n",
              "                                                     [key], {});\n",
              "          if (!dataTable) return;\n",
              "\n",
              "          const docLinkHtml = 'Like what you see? Visit the ' +\n",
              "            '<a target=\"_blank\" href=https://colab.research.google.com/notebooks/data_table.ipynb>data table notebook</a>'\n",
              "            + ' to learn more about interactive tables.';\n",
              "          element.innerHTML = '';\n",
              "          dataTable['output_type'] = 'display_data';\n",
              "          await google.colab.output.renderOutput(dataTable, element);\n",
              "          const docLink = document.createElement('div');\n",
              "          docLink.innerHTML = docLinkHtml;\n",
              "          element.appendChild(docLink);\n",
              "        }\n",
              "      </script>\n",
              "    </div>\n",
              "  </div>\n",
              "  "
            ],
            "text/plain": [
              "           0\n",
              "2012  363371\n",
              "2013  363481\n",
              "2014  371127\n",
              "2015  379846\n",
              "2016  386460"
            ]
          },
          "execution_count": 53,
          "metadata": {},
          "output_type": "execute_result"
        }
      ],
      "source": [
        "#creating a new panda dataframe with the clean and averaged out data\n",
        "avg_price = pd.DataFrame(data=avg_price_dict, index=[0])\n",
        "\n",
        "#transposing so that we can use it with matplotlib\n",
        "avg_price = avg_price.transpose()\n",
        "\n",
        "#checking the data\n",
        "avg_price.head()"
      ]
    },
    {
      "cell_type": "code",
      "execution_count": null,
      "metadata": {
        "colab": {
          "base_uri": "https://localhost:8080/"
        },
        "id": "qcm-jOkFbFEM",
        "outputId": "9e3f466d-7938-49da-fc82-0456d6d2a84d"
      },
      "outputs": [
        {
          "data": {
            "text/plain": [
              "0    int64\n",
              "dtype: object"
            ]
          },
          "execution_count": 54,
          "metadata": {},
          "output_type": "execute_result"
        }
      ],
      "source": [
        "#Checking that avg_price is in the correct format\n",
        "avg_price.dtypes"
      ]
    },
    {
      "cell_type": "markdown",
      "metadata": {
        "id": "oVSRgquiFKq8"
      },
      "source": [
        "### The code below will calculate the percent change between the data over the years and store them in dataframes."
      ]
    },
    {
      "cell_type": "code",
      "execution_count": null,
      "metadata": {
        "id": "tEE3J9pZEqM8"
      },
      "outputs": [],
      "source": [
        "#creating empty lists for later use\n",
        "percent_income_change = []\n",
        "percent_houses_change = []"
      ]
    },
    {
      "cell_type": "code",
      "execution_count": null,
      "metadata": {
        "colab": {
          "base_uri": "https://localhost:8080/"
        },
        "id": "BomWCBOXFzZQ",
        "outputId": "904204be-a8a0-4005-c021-616146b55c7d"
      },
      "outputs": [
        {
          "name": "stdout",
          "output_type": "stream",
          "text": [
            "housing percent change = [0.03, 2.1, 2.35, 1.74, 4.1, 2.39, 1.63]\n"
          ]
        }
      ],
      "source": [
        "#creating a temporary int variable to temporarily store data\n",
        "tem = 0.0\n",
        "\n",
        "#finding the percent change in the housng price dataframe\n",
        "for i in range(7):\n",
        "    tem = avg_price.iat[i+1,0] - avg_price.iat[i,0]\n",
        "    tem = tem / avg_price.iat[i,0]\n",
        "    tem = tem * 100\n",
        "    percent_houses_change.append(round(tem, 2))\n",
        "\n",
        "print('housing percent change = ' + str(percent_houses_change))"
      ]
    },
    {
      "cell_type": "code",
      "execution_count": null,
      "metadata": {
        "colab": {
          "base_uri": "https://localhost:8080/"
        },
        "id": "MOBTia9vKB6h",
        "outputId": "eb6ace80-b0ca-4dfc-c940-1a70cbf41d4d"
      },
      "outputs": [
        {
          "name": "stdout",
          "output_type": "stream",
          "text": [
            "income percent change = [0.15, 0.92, 3.17, 2.07, 0.98, 2.06, 4.39]\n"
          ]
        }
      ],
      "source": [
        "#finding the percentage change in the income dataframe\n",
        "for i in range(7):\n",
        "    tem = income_table.iat[i+1,0] - income_table.iat[i,0]\n",
        "    tem = tem / income_table.iat[i,0]\n",
        "    tem = tem * 100\n",
        "    percent_income_change.append(round(tem, 2))\n",
        "\n",
        "print('income percent change = ' + str(percent_income_change))"
      ]
    },
    {
      "cell_type": "code",
      "execution_count": null,
      "metadata": {
        "colab": {
          "base_uri": "https://localhost:8080/"
        },
        "id": "ctM5nHNAMDbH",
        "outputId": "93348706-aa2b-4620-8da5-07cf01b6457c"
      },
      "outputs": [
        {
          "name": "stdout",
          "output_type": "stream",
          "text": [
            "   House Prices  Income\n",
            "0          0.03    0.15\n",
            "1          2.10    0.92\n",
            "2          2.35    3.17\n",
            "3          1.74    2.07\n",
            "4          4.10    0.98\n",
            "5          2.39    2.06\n",
            "6          1.63    4.39\n"
          ]
        }
      ],
      "source": [
        "#creating an empty dataframe to hold the percent change data\n",
        "percent_changes = pd.DataFrame()\n",
        "\n",
        "#appending the lists to the new dataframe\n",
        "percent_changes['House Prices'] = percent_houses_change\n",
        "percent_changes['Income'] = percent_income_change\n",
        "\n",
        "print(percent_changes)"
      ]
    },
    {
      "cell_type": "markdown",
      "metadata": {
        "id": "NbHLhR2vBdWq"
      },
      "source": [
        "# PART 4: Visualization"
      ]
    },
    {
      "cell_type": "code",
      "execution_count": null,
      "metadata": {
        "colab": {
          "base_uri": "https://localhost:8080/",
          "height": 589
        },
        "id": "2jt7pgXEn6IS",
        "outputId": "23339e9a-c721-4607-8d71-c37beaeadd22"
      },
      "outputs": [
        {
          "data": {
            "image/png": "[encoded data removed]",
            "text/plain": [
              "<Figure size 432x288 with 1 Axes>"
            ]
          },
          "metadata": {
            "needs_background": "light"
          },
          "output_type": "display_data"
        },
        {
          "data": {
            "image/png": "[encoded data removed]",
            "text/plain": [
              "<Figure size 432x288 with 1 Axes>"
            ]
          },
          "metadata": {
            "needs_background": "light"
          },
          "output_type": "display_data"
        }
      ],
      "source": [
        "#creating bar graph for housing prices\n",
        "avg_price.plot(kind='bar', alpha=0.5, stacked=True, color='blue')\n",
        "plt.title('NYC Average House Price, 2012-2019')\n",
        "plt.ylabel('Average Price (In USD)')\n",
        "plt.xlabel('Year')\n",
        "plt.show()\n",
        "\n",
        "#creating line graph for housing prices\n",
        "avg_price.plot(kind='line', alpha=0.5, stacked=True, color='blue')\n",
        "plt.title('NYC Average House Price, 2012-2019')\n",
        "plt.ylabel('Dollars(In USD)')\n",
        "plt.xlabel('Year')\n",
        "plt.legend(['$'])\n",
        "plt.show()"
      ]
    },
    {
      "cell_type": "code",
      "execution_count": null,
      "metadata": {
        "colab": {
          "base_uri": "https://localhost:8080/",
          "height": 589
        },
        "id": "n3D7H2UhPuSU",
        "outputId": "c8eed971-adff-44ea-8075-e5b5f9ae74bd"
      },
      "outputs": [
        {
          "data": {
            "image/png": "[encoded data removed]",
            "text/plain": [
              "<Figure size 432x288 with 1 Axes>"
            ]
          },
          "metadata": {
            "needs_background": "light"
          },
          "output_type": "display_data"
        },
        {
          "data": {
            "image/png": "[encoded data removed]",
            "text/plain": [
              "<Figure size 432x288 with 1 Axes>"
            ]
          },
          "metadata": {
            "needs_background": "light"
          },
          "output_type": "display_data"
        }
      ],
      "source": [
        "#creating bar graph for income\n",
        "income_table.astype('int64').plot(kind='bar', alpha=0.5, stacked=True, color='green')\n",
        "plt.title('NYC Average Household Income, 2012-2019')\n",
        "plt.ylabel('Average Income (In USD)')\n",
        "plt.xlabel('Year')\n",
        "plt.legend(['$'])\n",
        "plt.show()\n",
        "\n",
        "#creating line graph for income\n",
        "income_table.astype('int64').plot(kind='line', alpha=0.5, stacked=True, color='green')\n",
        "plt.title('NYC Average Household Income, 2012-2019')\n",
        "plt.ylabel('Average Income (In USD)')\n",
        "plt.xlabel('Year')\n",
        "plt.legend(['$'])\n",
        "plt.show()"
      ]
    },
    {
      "cell_type": "code",
      "execution_count": null,
      "metadata": {
        "colab": {
          "base_uri": "https://localhost:8080/",
          "height": 265
        },
        "id": "C1EfuCvHCZcq",
        "outputId": "08f2be26-248b-4845-af2a-b39977e9096c"
      },
      "outputs": [
        {
          "data": {
            "image/png": "[encoded data removed]",
            "text/plain": [
              "<Figure size 432x288 with 1 Axes>"
            ]
          },
          "metadata": {
            "needs_background": "light"
          },
          "output_type": "display_data"
        }
      ],
      "source": [
        "#showing both datasets one one line graph(not so useful, just there to have it)\n",
        "plt.plot(avg_price, color='r', label='Housing Costs')\n",
        "plt.plot(income_table.astype('int64'), color='g', label='Income')\n",
        "plt.legend()\n",
        "plt.show()"
      ]
    },
    {
      "cell_type": "markdown",
      "metadata": {
        "id": "JBQQXCxyQVjp"
      },
      "source": [
        "# The chart below is arguably the most important one because it encompasses the whole project"
      ]
    },
    {
      "cell_type": "code",
      "execution_count": null,
      "metadata": {
        "colab": {
          "base_uri": "https://localhost:8080/",
          "height": 295
        },
        "id": "PK5f9rbEN-Yi",
        "outputId": "2d8bc261-ccc4-4b52-cc83-78d863443f84"
      },
      "outputs": [
        {
          "data": {
            "image/png": "[encoded data removed]",
            "text/plain": [
              "<Figure size 432x288 with 1 Axes>"
            ]
          },
          "metadata": {
            "needs_background": "light"
          },
          "output_type": "display_data"
        }
      ],
      "source": [
        "#creating a line graph that compares the percent changes\n",
        "percent_changes.plot(kind='line', stacked=False)\n",
        "plt.title('Percent Changes in House Prices and Income(2012-2019)')\n",
        "plt.ylabel('Percent Change')\n",
        "plt.xlabel('Years (0 = 2012-2013 and 6 = 2018-2019')\n",
        "plt.legend()\n",
        "plt.show()"
      ]
    },
    {
      "cell_type": "markdown",
      "metadata": {
        "id": "OnrqhxiSB0NF"
      },
      "source": [
        "#References\n",
        "### general coding errors and syntax - https://stackoverflow.com/\n",
        "### pandas - https://pandas.pydata.org/docs/reference/frame.html\n",
        "### MatPlotLib Documentation - https://matplotlib.org/stable/api/matplotlib_configuration_api.html#\n",
        "### How to cast a DataFrame - https://pandas.pydata.org/docs/reference/api/pandas.DataFrame.astype.html\n",
        "### How to take away the index from a dataframe - https://www.delftstack.com/howto/python-pandas/pandas-remove-index/#remove-index-of-a-pandas-dataframe-using-the-set-index-method"
      ]
    }
  ],
  "metadata": {
    "colab": {
      "collapsed_sections": [],
      "name": "01- Group 1.ipynb",
      "provenance": []
    },
    "kernelspec": {
      "display_name": "Python 3",
      "name": "python3"
    },
    "language_info": {
      "name": "python"
    }
  },
  "nbformat": 4,
  "nbformat_minor": 0
}
